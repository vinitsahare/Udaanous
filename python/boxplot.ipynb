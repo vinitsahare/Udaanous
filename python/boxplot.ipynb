{
 "cells": [
  {
   "cell_type": "code",
   "execution_count": 1,
   "id": "c9f20c4a-a2f2-4d11-bd55-bb060c0d90b8",
   "metadata": {},
   "outputs": [],
   "source": [
    "import pandas as pd\n",
    "import numpy as np\n",
    "import seaborn as sns\n",
    "import matplotlib.pyplot as plt"
   ]
  },
  {
   "cell_type": "code",
   "execution_count": 5,
   "id": "58faf483-d5d3-424b-8eed-38808a70a26f",
   "metadata": {},
   "outputs": [
    {
     "data": {
      "text/html": [
       "<div>\n",
       "<style scoped>\n",
       "    .dataframe tbody tr th:only-of-type {\n",
       "        vertical-align: middle;\n",
       "    }\n",
       "\n",
       "    .dataframe tbody tr th {\n",
       "        vertical-align: top;\n",
       "    }\n",
       "\n",
       "    .dataframe thead th {\n",
       "        text-align: right;\n",
       "    }\n",
       "</style>\n",
       "<table border=\"1\" class=\"dataframe\">\n",
       "  <thead>\n",
       "    <tr style=\"text-align: right;\">\n",
       "      <th></th>\n",
       "      <th>EmployeeID</th>\n",
       "      <th>gender</th>\n",
       "      <th>department</th>\n",
       "      <th>Days Present</th>\n",
       "      <th>Accuracy of Work</th>\n",
       "      <th>Meeting Project Deadlines</th>\n",
       "      <th>Task Completion Rates</th>\n",
       "      <th>Interpersonal Skills Rating</th>\n",
       "      <th>Decision-Making Skills Rating</th>\n",
       "      <th>Sales Revenue Generated</th>\n",
       "      <th>churned</th>\n",
       "    </tr>\n",
       "  </thead>\n",
       "  <tbody>\n",
       "    <tr>\n",
       "      <th>0</th>\n",
       "      <td>1</td>\n",
       "      <td>Male</td>\n",
       "      <td>Sales</td>\n",
       "      <td>20</td>\n",
       "      <td>High</td>\n",
       "      <td>Yes</td>\n",
       "      <td>85</td>\n",
       "      <td>8</td>\n",
       "      <td>7</td>\n",
       "      <td>51638</td>\n",
       "      <td>No</td>\n",
       "    </tr>\n",
       "    <tr>\n",
       "      <th>1</th>\n",
       "      <td>2</td>\n",
       "      <td>Female</td>\n",
       "      <td>Marketing</td>\n",
       "      <td>22</td>\n",
       "      <td>Medium</td>\n",
       "      <td>Yes</td>\n",
       "      <td>90</td>\n",
       "      <td>7</td>\n",
       "      <td>6</td>\n",
       "      <td>97797</td>\n",
       "      <td>Yes</td>\n",
       "    </tr>\n",
       "    <tr>\n",
       "      <th>2</th>\n",
       "      <td>3</td>\n",
       "      <td>Male</td>\n",
       "      <td>Human Resources</td>\n",
       "      <td>25</td>\n",
       "      <td>High</td>\n",
       "      <td>No</td>\n",
       "      <td>80</td>\n",
       "      <td>9</td>\n",
       "      <td>8</td>\n",
       "      <td>95341</td>\n",
       "      <td>No</td>\n",
       "    </tr>\n",
       "    <tr>\n",
       "      <th>3</th>\n",
       "      <td>4</td>\n",
       "      <td>Male</td>\n",
       "      <td>Engineering</td>\n",
       "      <td>19</td>\n",
       "      <td>Low</td>\n",
       "      <td>Yes</td>\n",
       "      <td>75</td>\n",
       "      <td>6</td>\n",
       "      <td>5</td>\n",
       "      <td>91806</td>\n",
       "      <td>No</td>\n",
       "    </tr>\n",
       "    <tr>\n",
       "      <th>4</th>\n",
       "      <td>5</td>\n",
       "      <td>Female</td>\n",
       "      <td>Finance</td>\n",
       "      <td>23</td>\n",
       "      <td>Medium</td>\n",
       "      <td>Yes</td>\n",
       "      <td>85</td>\n",
       "      <td>7</td>\n",
       "      <td>7</td>\n",
       "      <td>64247</td>\n",
       "      <td>Yes</td>\n",
       "    </tr>\n",
       "  </tbody>\n",
       "</table>\n",
       "</div>"
      ],
      "text/plain": [
       "   EmployeeID  gender       department  Days Present Accuracy of Work  \\\n",
       "0           1    Male            Sales            20             High   \n",
       "1           2  Female        Marketing            22           Medium   \n",
       "2           3    Male  Human Resources            25             High   \n",
       "3           4    Male      Engineering            19              Low   \n",
       "4           5  Female          Finance            23           Medium   \n",
       "\n",
       "  Meeting Project Deadlines  Task Completion Rates  \\\n",
       "0                       Yes                     85   \n",
       "1                       Yes                     90   \n",
       "2                        No                     80   \n",
       "3                       Yes                     75   \n",
       "4                       Yes                     85   \n",
       "\n",
       "   Interpersonal Skills Rating  Decision-Making Skills Rating  \\\n",
       "0                            8                              7   \n",
       "1                            7                              6   \n",
       "2                            9                              8   \n",
       "3                            6                              5   \n",
       "4                            7                              7   \n",
       "\n",
       "   Sales Revenue Generated churned  \n",
       "0                    51638      No  \n",
       "1                    97797     Yes  \n",
       "2                    95341      No  \n",
       "3                    91806      No  \n",
       "4                    64247     Yes  "
      ]
     },
     "execution_count": 5,
     "metadata": {},
     "output_type": "execute_result"
    }
   ],
   "source": [
    "data = pd.read_excel(r\"D:\\DATA ANALYTICS\\Python\\dataset\\boxplot_data.xlsx\")\n",
    "df = pd.DataFrame(data)\n",
    "df.head()"
   ]
  },
  {
   "cell_type": "code",
   "execution_count": 37,
   "id": "597dae0f-bcf7-46e4-948e-2e244b00d8d3",
   "metadata": {},
   "outputs": [
    {
     "data": {
      "image/png": "[encoded data removed]",
      "text/plain": [
       "<Figure size 600x800 with 1 Axes>"
      ]
     },
     "metadata": {},
     "output_type": "display_data"
    }
   ],
   "source": [
    "plt.figure(figsize=(6,8))\n",
    "\n",
    "sns.boxplot(x=df[\"churned\"], y=df[\"Task Completion Rates\"], data=df)\n",
    "\n",
    "plt.title(\"fg\")\n",
    "\n",
    "plt.show()"
   ]
  },
  {
   "cell_type": "code",
   "execution_count": 43,
   "id": "4d9f1e1c-0b03-4489-adbf-accb1bd78558",
   "metadata": {},
   "outputs": [
    {
     "name": "stdout",
     "output_type": "stream",
     "text": [
      "meadian: 80.0\n"
     ]
    }
   ],
   "source": [
    "churned_df = df[df[\"churned\"] == \"Yes\"][\"Task Completion Rates\"].median()\n",
    "print('meadian:',churned_df)"
   ]
  },
  {
   "cell_type": "code",
   "execution_count": null,
   "id": "353e213f-83ba-4b8a-89f9-89ebd756ce3c",
   "metadata": {},
   "outputs": [],
   "source": []
  }
 ],
 "metadata": {
  "kernelspec": {
   "display_name": "Python [conda env:base] *",
   "language": "python",
   "name": "conda-base-py"
  },
  "language_info": {
   "codemirror_mode": {
    "name": "ipython",
    "version": 3
   },
   "file_extension": ".py",
   "mimetype": "text/x-python",
   "name": "python",
   "nbconvert_exporter": "python",
   "pygments_lexer": "ipython3",
   "version": "3.12.7"
  }
 },
 "nbformat": 4,
 "nbformat_minor": 5
}
