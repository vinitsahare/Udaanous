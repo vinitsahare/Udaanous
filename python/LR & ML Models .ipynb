{
 "cells": [
  {
   "cell_type": "code",
   "execution_count": 27,
   "id": "25259120-1ae2-4a07-8405-6b83acc3ce1d",
   "metadata": {},
   "outputs": [],
   "source": [
    "import pandas as pd\n",
    "from sklearn.linear_model import LinearRegression\n",
    "from sklearn.metrics import mean_squared_error"
   ]
  },
  {
   "cell_type": "code",
   "execution_count": 29,
   "id": "2ffdbec5-4618-4707-aa15-56e8cdf32bbb",
   "metadata": {},
   "outputs": [],
   "source": [
    "data = pd.read_csv(r\"C:\\Users\\Dell\\Downloads\\Boston.csv\")\n"
   ]
  },
  {
   "cell_type": "code",
   "execution_count": 31,
   "id": "1cac6807-7421-4883-bc14-86f215d64ec0",
   "metadata": {
    "scrolled": true
   },
   "outputs": [
    {
     "name": "stdout",
     "output_type": "stream",
     "text": [
      "Unnamed: 0    0\n",
      "crim          0\n",
      "zn            0\n",
      "indus         0\n",
      "chas          0\n",
      "nox           0\n",
      "rm            0\n",
      "age           0\n",
      "dis           0\n",
      "rad           0\n",
      "tax           0\n",
      "ptratio       0\n",
      "black         0\n",
      "lstat         0\n",
      "medv          0\n",
      "dtype: int64\n",
      "   Unnamed: 0     crim    zn  indus  chas    nox     rm   age     dis  rad  \\\n",
      "0           1  0.00632  18.0   2.31     0  0.538  6.575  65.2  4.0900    1   \n",
      "1           2  0.02731   0.0   7.07     0  0.469  6.421  78.9  4.9671    2   \n",
      "2           3  0.02729   0.0   7.07     0  0.469  7.185  61.1  4.9671    2   \n",
      "3           4  0.03237   0.0   2.18     0  0.458  6.998  45.8  6.0622    3   \n",
      "4           5  0.06905   0.0   2.18     0  0.458  7.147  54.2  6.0622    3   \n",
      "\n",
      "   tax  ptratio   black  lstat  medv  \n",
      "0  296     15.3  396.90   4.98  24.0  \n",
      "1  242     17.8  396.90   9.14  21.6  \n",
      "2  242     17.8  392.83   4.03  34.7  \n",
      "3  222     18.7  394.63   2.94  33.4  \n",
      "4  222     18.7  396.90   5.33  36.2  \n"
     ]
    }
   ],
   "source": [
    "print(data.isnull().sum())\n",
    "print(data.head())"
   ]
  },
  {
   "cell_type": "code",
   "execution_count": 92,
   "id": "13c8449a-f3c3-4016-89ca-051f6f51667e",
   "metadata": {},
   "outputs": [
    {
     "name": "stdout",
     "output_type": "stream",
     "text": [
      "Mean Squared Error: 0.01223053266153638\n"
     ]
    }
   ],
   "source": [
    "x = data[['crim']]\n",
    "y = data[['nox']]\n",
    "\n",
    "from sklearn.model_selection import train_test_split\n",
    "\n",
    "x_test, x_train, y_test, y_train = train_test_split(x, y, test_size=0.25, random_state = 42)\n",
    "model = LinearRegression()\n",
    "model.fit(x_train, y_train)\n",
    "y_pred = model.predict(x_test)\n",
    "mape = mean_squared_error(y_test, y_pred)\n",
    "print(f\"Mean Squared Error: {mape}\")"
   ]
  },
  {
   "cell_type": "code",
   "execution_count": 94,
   "id": "89f9241b-d87d-42eb-a175-701188c988ac",
   "metadata": {},
   "outputs": [
    {
     "name": "stdout",
     "output_type": "stream",
     "text": [
      "Mean squared error: 0.009402901451187334\n"
     ]
    }
   ],
   "source": [
    "from sklearn.tree import DecisionTreeRegressor\n",
    "from sklearn.metrics import mean_squared_error\n",
    "\n",
    "model = DecisionTreeRegressor()\n",
    "model.fit(x_train, y_train)\n",
    "y_pred = model.predict(x_test)\n",
    "mape = mean_squared_error(y_test, y_pred)\n",
    "print(\"Mean squared error:\", mape)"
   ]
  },
  {
   "cell_type": "code",
   "execution_count": 96,
   "id": "af368814-5083-454a-8638-f88568d61814",
   "metadata": {},
   "outputs": [
    {
     "name": "stderr",
     "output_type": "stream",
     "text": [
      "C:\\Users\\Dell\\anaconda3\\Lib\\site-packages\\sklearn\\base.py:1473: DataConversionWarning: A column-vector y was passed when a 1d array was expected. Please change the shape of y to (n_samples,), for example using ravel().\n",
      "  return fit_method(estimator, *args, **kwargs)\n"
     ]
    },
    {
     "name": "stdout",
     "output_type": "stream",
     "text": [
      "Mean squared error: 0.006745584412277066\n"
     ]
    }
   ],
   "source": [
    "from sklearn.ensemble import RandomForestRegressor\n",
    "from sklearn.metrics import mean_squared_error\n",
    "\n",
    "model = RandomForestRegressor()\n",
    "model.fit(x_train, y_train)\n",
    "y_pred = model.predict(x_test)\n",
    "mape = mean_squared_error(y_test, y_pred)\n",
    "print(\"Mean squared error:\", mape)"
   ]
  },
  {
   "cell_type": "code",
   "execution_count": null,
   "id": "be0f3815-42b4-4f56-b3c2-6663d48b8b3d",
   "metadata": {},
   "outputs": [],
   "source": []
  }
 ],
 "metadata": {
  "kernelspec": {
   "display_name": "Python [conda env:base] *",
   "language": "python",
   "name": "conda-base-py"
  },
  "language_info": {
   "codemirror_mode": {
    "name": "ipython",
    "version": 3
   },
   "file_extension": ".py",
   "mimetype": "text/x-python",
   "name": "python",
   "nbconvert_exporter": "python",
   "pygments_lexer": "ipython3",
   "version": "3.12.7"
  }
 },
 "nbformat": 4,
 "nbformat_minor": 5
}
